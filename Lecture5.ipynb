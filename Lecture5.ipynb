{
 "cells": [
  {
   "cell_type": "code",
   "execution_count": null,
   "id": "1e1d75a1-b7ce-4afc-9615-cf86868164c7",
   "metadata": {},
   "outputs": [],
   "source": [
    "import cv2\n",
    "import numpy as np\n",
    "\n",
    "# Create a black image\n",
    "# Mouse callback function\n",
    "img = np.zeros((512, 512, 3), dtype=np.uint8)\n",
    "\n",
    "def draw_circle(event, x, y, flags, param):\n",
    "    if event == cv2.EVENT_LBUTTONDOWN:\n",
    "        cv2.circle(img, (x, y), 50, (0, 255, 0), -1)\n",
    "\n",
    "# Create a window and set mouse callback\n",
    "cv2.namedWindow(\"my_drawing\", cv2.WINDOW_NORMAL)  # Use WINDOW_NORMAL for resizable window\n",
    "cv2.setMouseCallback(\"my_drawing\", draw_circle)\n",
    "\n",
    "# Display the image in a loop\n",
    "while True:\n",
    "    cv2.imshow(\"my_drawing\", img)\n",
    "    if cv2.waitKey(1) & 0xFF == 27:  # Press ESC to exit\n",
    "        break\n",
    "\n",
    "cv2.destroyAllWindows()\n"
   ]
  },
  {
   "cell_type": "code",
   "execution_count": 3,
   "id": "f732c6ed-0fbf-45dd-a8dc-cbf808cdc76a",
   "metadata": {},
   "outputs": [
    {
     "ename": "SyntaxError",
     "evalue": "invalid syntax (3007316489.py, line 1)",
     "output_type": "error",
     "traceback": [
      "\u001b[1;36m  Cell \u001b[1;32mIn[3], line 1\u001b[1;36m\u001b[0m\n\u001b[1;33m    sudo apt update\u001b[0m\n\u001b[1;37m         ^\u001b[0m\n\u001b[1;31mSyntaxError\u001b[0m\u001b[1;31m:\u001b[0m invalid syntax\n"
     ]
    }
   ],
   "source": [
    "sudo apt update\n",
    "sudo apt install libgl1-mesa-glx libgtk2.0-dev\n"
   ]
  },
  {
   "cell_type": "code",
   "execution_count": null,
   "id": "5ce2c44f-ace9-4791-9694-ca478f4ea661",
   "metadata": {},
   "outputs": [],
   "source": []
  }
 ],
 "metadata": {
  "kernelspec": {
   "display_name": "Python 3 (ipykernel)",
   "language": "python",
   "name": "python3"
  },
  "language_info": {
   "codemirror_mode": {
    "name": "ipython",
    "version": 3
   },
   "file_extension": ".py",
   "mimetype": "text/x-python",
   "name": "python",
   "nbconvert_exporter": "python",
   "pygments_lexer": "ipython3",
   "version": "3.11.5"
  }
 },
 "nbformat": 4,
 "nbformat_minor": 5
}
